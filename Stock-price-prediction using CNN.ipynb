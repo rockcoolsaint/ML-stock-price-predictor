{
 "cells": [
  {
   "cell_type": "code",
   "execution_count": null,
   "id": "75572878",
   "metadata": {},
   "outputs": [],
   "source": [
    "import numpy as np\n",
    "import pandas as pd\n",
    "import matplotlib.pyplot as plt\n",
    "import seaborn as sns\n",
    "# from sklearn.preprocessing import MinMaxScaler, StandardScaler\n",
    "# from sklearn.metrics import mean_squared_error, accuracy_score\n",
    "\n",
    "import tensorflow as tf\n",
    "import keras\n",
    "from keras.models import Sequential\n",
    "from keras.layers.core import Dense, Activation, Flatten\n",
    "from keras.callbacks import ModelCheckpoint\n",
    "from keras.callbacks import EarlyStopping\n",
    "from keras.models import Sequential\n",
    "from keras.layers.core import Dense, Activation, Flatten, Dropout\n",
    "from keras.optimizers import Adam\n",
    "from keras.layers import Conv1D, Conv2D, MaxPooling2D\n",
    "from sklearn import metrics\n",
    "from sklearn.model_selection import train_test_split\n",
    "from sklearn.metrics import mean_squared_error,r2_score, accuracy_score\n",
    "from sklearn.preprocessing import MinMaxScaler, StandardScaler\n",
    "import csv\n",
    "import collections\n",
    "from scipy.stats import zscore\n",
    "from datetime import datetime\n",
    "import matplotlib.pyplot as plt"
   ]
  },
  {
   "cell_type": "code",
   "execution_count": null,
   "id": "6e3d3ebd",
   "metadata": {},
   "outputs": [],
   "source": [
    "df = pd.read_csv('data/XAU_JPY Historical Data.csv')"
   ]
  },
  {
   "cell_type": "code",
   "execution_count": null,
   "id": "849e5c52",
   "metadata": {},
   "outputs": [],
   "source": [
    "df.head(3)"
   ]
  },
  {
   "cell_type": "code",
   "execution_count": null,
   "id": "b15df2df",
   "metadata": {},
   "outputs": [],
   "source": [
    "df.shape"
   ]
  },
  {
   "cell_type": "code",
   "execution_count": null,
   "id": "aa142578",
   "metadata": {},
   "outputs": [],
   "source": [
    "# df = df.drop(columns=['date','symbol'])\n",
    "df = df[['Date','Price']]"
   ]
  },
  {
   "cell_type": "code",
   "execution_count": null,
   "id": "429cf602",
   "metadata": {},
   "outputs": [],
   "source": [
    "df.head()"
   ]
  },
  {
   "cell_type": "code",
   "execution_count": null,
   "id": "154cc8e6",
   "metadata": {},
   "outputs": [],
   "source": [
    "df = df.iloc[::-1] # This reverses the order of the dataframe rows"
   ]
  },
  {
   "cell_type": "code",
   "execution_count": null,
   "id": "0132d0db",
   "metadata": {},
   "outputs": [],
   "source": [
    "df.head()"
   ]
  },
  {
   "cell_type": "markdown",
   "id": "60567117",
   "metadata": {},
   "source": [
    "Lets take a look at closing price, its so rough"
   ]
  },
  {
   "cell_type": "code",
   "execution_count": null,
   "id": "bb6a80a9",
   "metadata": {},
   "outputs": [],
   "source": [
    "plt.figure(figsize=(15,15))\n",
    "plt.plot(df['close'])"
   ]
  },
  {
   "cell_type": "code",
   "execution_count": null,
   "id": "74efb6f1",
   "metadata": {},
   "outputs": [],
   "source": [
    "# Normalization\n",
    "\n",
    "scaler = MinMaxScaler(feature_range=(0,1))\n",
    "df = scaler.fit_transform(df)\n",
    "\n",
    "y_close = df[:,1]"
   ]
  },
  {
   "cell_type": "code",
   "execution_count": null,
   "id": "8322acf1",
   "metadata": {},
   "outputs": [],
   "source": [
    "plt.figure(figsize=(15,15))\n",
    "plt.plot(y_close)\n",
    "plt.show()"
   ]
  },
  {
   "cell_type": "code",
   "execution_count": null,
   "id": "fade3ac8",
   "metadata": {},
   "outputs": [],
   "source": [
    "ntrain = int(len(y_close)*0.8) \n",
    "\n",
    "train = df[0:ntrain]\n",
    "test  = df[ntrain:len(df)]\n",
    "\n",
    "y_close_train = y_close[0:ntrain]\n",
    "y_close_test  = y_close[ntrain:len(y_close)]"
   ]
  },
  {
   "cell_type": "code",
   "execution_count": null,
   "id": "b50fa932",
   "metadata": {},
   "outputs": [],
   "source": [
    "y_close_test.shape"
   ]
  },
  {
   "cell_type": "markdown",
   "id": "8d66bbb8",
   "metadata": {},
   "source": [
    "## Here we construct the image"
   ]
  },
  {
   "cell_type": "code",
   "execution_count": null,
   "id": "270079ef",
   "metadata": {},
   "outputs": [],
   "source": [
    "import numpy as np\n",
    "\n",
    "def to_sequences(seq_size, data,close):\n",
    "    x = []\n",
    "    y = []\n",
    "\n",
    "    for i in range(len(data)-seq_size-1):\n",
    "        window = data[i:(i+seq_size)]\n",
    "        after_window = close[i+seq_size]\n",
    "        window = [[x] for x in window]\n",
    "        x.append(window)\n",
    "        y.append(after_window)\n",
    "        \n",
    "    return np.array(x),np.array(y)\n",
    "\n",
    "\n",
    "timesteps = 10\n",
    "\n",
    "x_train, y_train = to_sequences(timesteps, train, y_close_train)\n",
    "x_test, y_test   = to_sequences(timesteps, test, y_close_test)\n",
    "\n",
    "print(\"Shape of x_train: {}\".format(x_train.shape))\n",
    "print(\"Shape of x_test: {}\".format(x_test.shape))\n",
    "print(\"Shape of y_train: {}\".format(y_train.shape))\n",
    "print(\"Shape of y_test: {}\".format(y_test.shape))"
   ]
  },
  {
   "cell_type": "code",
   "execution_count": null,
   "id": "4fa5bdf1",
   "metadata": {},
   "outputs": [],
   "source": [
    "x_train[0]"
   ]
  },
  {
   "cell_type": "code",
   "execution_count": null,
   "id": "2c35325f",
   "metadata": {},
   "outputs": [],
   "source": [
    "x_train = np.reshape(x_train,(x_train.shape[0], x_train.shape[2], x_train.shape[1],x_train.shape[3]))\n",
    "x_test = np.reshape(x_test,(x_test.shape[0],x_test.shape[2],x_test.shape[1],x_test.shape[3]))"
   ]
  },
  {
   "cell_type": "code",
   "execution_count": null,
   "id": "5f192e53",
   "metadata": {},
   "outputs": [],
   "source": [
    "print(x_train.shape)"
   ]
  },
  {
   "cell_type": "code",
   "execution_count": null,
   "id": "bdb5d171",
   "metadata": {},
   "outputs": [],
   "source": [
    "x_train[0][0].shape"
   ]
  },
  {
   "cell_type": "markdown",
   "id": "16a9b4ae",
   "metadata": {},
   "source": [
    "### Here is the image expected"
   ]
  },
  {
   "cell_type": "code",
   "execution_count": null,
   "id": "69b5691e",
   "metadata": {},
   "outputs": [],
   "source": [
    "fig, (ax1, ax2, ax3, ax4, ax5) = plt.subplots(1, 5)\n",
    "ax1.imshow(x_train[0][0])\n",
    "ax2.imshow(x_train[1][0])\n",
    "ax3.imshow(x_train[2][0])\n",
    "ax4.imshow(x_train[3][0])\n",
    "ax5.imshow(x_train[4][0])"
   ]
  },
  {
   "cell_type": "code",
   "execution_count": null,
   "id": "94636933",
   "metadata": {},
   "outputs": [],
   "source": []
  },
  {
   "cell_type": "code",
   "execution_count": null,
   "id": "22f84cac",
   "metadata": {},
   "outputs": [],
   "source": [
    "cnn = Sequential()\n",
    "cnn.add(Conv2D(8, kernel_size = (1, 2), strides = (1, 1),  padding = 'valid', \n",
    "               activation = 'relu', input_shape = (1,10,5)))\n",
    "cnn.add(MaxPooling2D(pool_size = (1,2)))\n",
    "\n",
    "cnn.add(Flatten())\n",
    "cnn.add(Dense(64, activation=\"relu\"))\n",
    "cnn.add(Dropout(0.5))\n",
    "cnn.add(Dense(1, activation=\"relu\"))\n",
    "cnn.summary()   "
   ]
  },
  {
   "cell_type": "code",
   "execution_count": null,
   "id": "c6570539",
   "metadata": {},
   "outputs": [],
   "source": [
    "cnn.compile(loss='mean_squared_error', optimizer='nadam')\n",
    "\n",
    "monitor = EarlyStopping(monitor='val_loss', min_delta=1, patience=2, verbose=2, mode='auto') \n",
    "checkpointer = ModelCheckpoint(filepath=\"CNN_Parameters.hdf5\", verbose=0, save_best_only=True) # save best model"
   ]
  },
  {
   "cell_type": "code",
   "execution_count": null,
   "id": "3744a536",
   "metadata": {},
   "outputs": [],
   "source": [
    "history = cnn.fit(x_train,y_train,validation_split=0.2,batch_size = 128, callbacks=[checkpointer],verbose=1,epochs = 100)"
   ]
  },
  {
   "cell_type": "code",
   "execution_count": null,
   "id": "6d94ad60",
   "metadata": {},
   "outputs": [],
   "source": [
    "plt.plot(history.history['loss'], label = 'loss')\n",
    "plt.plot(history.history['val_loss'], label = 'val loss')\n",
    "plt.legend()"
   ]
  },
  {
   "cell_type": "code",
   "execution_count": null,
   "id": "fa177a88",
   "metadata": {},
   "outputs": [],
   "source": [
    "cnn.load_weights('CNN_Parameters.hdf5')\n",
    "\n",
    "pred = cnn.predict(x_test)\n",
    "print(pred.shape)"
   ]
  },
  {
   "cell_type": "code",
   "execution_count": null,
   "id": "42928b96",
   "metadata": {},
   "outputs": [],
   "source": [
    "score = np.sqrt(metrics.mean_squared_error(y_test, pred))\n",
    "print(\"RMSE Score: {}\".format(score))"
   ]
  },
  {
   "cell_type": "code",
   "execution_count": null,
   "id": "376f2d8c",
   "metadata": {},
   "outputs": [],
   "source": [
    "plt.figure(figsize=(15,15))\n",
    "\n",
    "plt.plot(y_test, label = 'actual')\n",
    "plt.plot(pred,   label = 'predicted')\n",
    "plt.legend()\n",
    "plt.show()"
   ]
  },
  {
   "cell_type": "code",
   "execution_count": null,
   "id": "9169ced0",
   "metadata": {},
   "outputs": [],
   "source": []
  }
 ],
 "metadata": {
  "kernelspec": {
   "display_name": "Python 3 (ipykernel)",
   "language": "python",
   "name": "python3"
  },
  "language_info": {
   "codemirror_mode": {
    "name": "ipython",
    "version": 3
   },
   "file_extension": ".py",
   "mimetype": "text/x-python",
   "name": "python",
   "nbconvert_exporter": "python",
   "pygments_lexer": "ipython3",
   "version": "3.9.13"
  }
 },
 "nbformat": 4,
 "nbformat_minor": 5
}
