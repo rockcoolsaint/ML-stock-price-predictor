{
 "cells": [
  {
   "cell_type": "code",
   "execution_count": 1,
   "id": "b054fc50",
   "metadata": {},
   "outputs": [
    {
     "data": {
      "text/html": [
       "<div>\n",
       "<style scoped>\n",
       "    .dataframe tbody tr th:only-of-type {\n",
       "        vertical-align: middle;\n",
       "    }\n",
       "\n",
       "    .dataframe tbody tr th {\n",
       "        vertical-align: top;\n",
       "    }\n",
       "\n",
       "    .dataframe thead th {\n",
       "        text-align: right;\n",
       "    }\n",
       "</style>\n",
       "<table border=\"1\" class=\"dataframe\">\n",
       "  <thead>\n",
       "    <tr style=\"text-align: right;\">\n",
       "      <th></th>\n",
       "      <th>Date</th>\n",
       "      <th>Price</th>\n",
       "      <th>Open</th>\n",
       "      <th>High</th>\n",
       "      <th>Low</th>\n",
       "      <th>Vol.</th>\n",
       "      <th>Change %</th>\n",
       "    </tr>\n",
       "  </thead>\n",
       "  <tbody>\n",
       "    <tr>\n",
       "      <th>0</th>\n",
       "      <td>06/23/2024</td>\n",
       "      <td>2,329.23</td>\n",
       "      <td>2,321.43</td>\n",
       "      <td>2,334.69</td>\n",
       "      <td>2,317.78</td>\n",
       "      <td>NaN</td>\n",
       "      <td>0.33%</td>\n",
       "    </tr>\n",
       "    <tr>\n",
       "      <th>1</th>\n",
       "      <td>06/16/2024</td>\n",
       "      <td>2,321.51</td>\n",
       "      <td>2,331.27</td>\n",
       "      <td>2,368.77</td>\n",
       "      <td>2,306.66</td>\n",
       "      <td>NaN</td>\n",
       "      <td>-0.47%</td>\n",
       "    </tr>\n",
       "    <tr>\n",
       "      <th>2</th>\n",
       "      <td>06/09/2024</td>\n",
       "      <td>2,332.52</td>\n",
       "      <td>2,296.00</td>\n",
       "      <td>2,341.70</td>\n",
       "      <td>2,287.31</td>\n",
       "      <td>NaN</td>\n",
       "      <td>1.74%</td>\n",
       "    </tr>\n",
       "    <tr>\n",
       "      <th>3</th>\n",
       "      <td>06/02/2024</td>\n",
       "      <td>2,292.71</td>\n",
       "      <td>2,329.61</td>\n",
       "      <td>2,387.85</td>\n",
       "      <td>2,286.77</td>\n",
       "      <td>NaN</td>\n",
       "      <td>-1.47%</td>\n",
       "    </tr>\n",
       "    <tr>\n",
       "      <th>4</th>\n",
       "      <td>05/26/2024</td>\n",
       "      <td>2,326.97</td>\n",
       "      <td>2,334.50</td>\n",
       "      <td>2,364.12</td>\n",
       "      <td>2,321.64</td>\n",
       "      <td>NaN</td>\n",
       "      <td>-0.29%</td>\n",
       "    </tr>\n",
       "    <tr>\n",
       "      <th>...</th>\n",
       "      <td>...</td>\n",
       "      <td>...</td>\n",
       "      <td>...</td>\n",
       "      <td>...</td>\n",
       "      <td>...</td>\n",
       "      <td>...</td>\n",
       "      <td>...</td>\n",
       "    </tr>\n",
       "    <tr>\n",
       "      <th>152</th>\n",
       "      <td>07/25/2021</td>\n",
       "      <td>1,814.09</td>\n",
       "      <td>1,802.77</td>\n",
       "      <td>1,832.91</td>\n",
       "      <td>1,792.41</td>\n",
       "      <td>NaN</td>\n",
       "      <td>0.65%</td>\n",
       "    </tr>\n",
       "    <tr>\n",
       "      <th>153</th>\n",
       "      <td>07/18/2021</td>\n",
       "      <td>1,802.34</td>\n",
       "      <td>1,812.09</td>\n",
       "      <td>1,825.75</td>\n",
       "      <td>1,790.98</td>\n",
       "      <td>NaN</td>\n",
       "      <td>-0.53%</td>\n",
       "    </tr>\n",
       "    <tr>\n",
       "      <th>154</th>\n",
       "      <td>07/11/2021</td>\n",
       "      <td>1,811.89</td>\n",
       "      <td>1,808.49</td>\n",
       "      <td>1,834.65</td>\n",
       "      <td>1,791.49</td>\n",
       "      <td>NaN</td>\n",
       "      <td>0.16%</td>\n",
       "    </tr>\n",
       "    <tr>\n",
       "      <th>155</th>\n",
       "      <td>07/04/2021</td>\n",
       "      <td>1,808.98</td>\n",
       "      <td>1,787.99</td>\n",
       "      <td>1,819.10</td>\n",
       "      <td>1,784.29</td>\n",
       "      <td>NaN</td>\n",
       "      <td>1.21%</td>\n",
       "    </tr>\n",
       "    <tr>\n",
       "      <th>156</th>\n",
       "      <td>06/27/2021</td>\n",
       "      <td>1,787.38</td>\n",
       "      <td>1,781.45</td>\n",
       "      <td>1,795.45</td>\n",
       "      <td>1,749.79</td>\n",
       "      <td>NaN</td>\n",
       "      <td>0.34%</td>\n",
       "    </tr>\n",
       "  </tbody>\n",
       "</table>\n",
       "<p>157 rows × 7 columns</p>\n",
       "</div>"
      ],
      "text/plain": [
       "           Date     Price      Open      High       Low  Vol. Change %\n",
       "0    06/23/2024  2,329.23  2,321.43  2,334.69  2,317.78   NaN    0.33%\n",
       "1    06/16/2024  2,321.51  2,331.27  2,368.77  2,306.66   NaN   -0.47%\n",
       "2    06/09/2024  2,332.52  2,296.00  2,341.70  2,287.31   NaN    1.74%\n",
       "3    06/02/2024  2,292.71  2,329.61  2,387.85  2,286.77   NaN   -1.47%\n",
       "4    05/26/2024  2,326.97  2,334.50  2,364.12  2,321.64   NaN   -0.29%\n",
       "..          ...       ...       ...       ...       ...   ...      ...\n",
       "152  07/25/2021  1,814.09  1,802.77  1,832.91  1,792.41   NaN    0.65%\n",
       "153  07/18/2021  1,802.34  1,812.09  1,825.75  1,790.98   NaN   -0.53%\n",
       "154  07/11/2021  1,811.89  1,808.49  1,834.65  1,791.49   NaN    0.16%\n",
       "155  07/04/2021  1,808.98  1,787.99  1,819.10  1,784.29   NaN    1.21%\n",
       "156  06/27/2021  1,787.38  1,781.45  1,795.45  1,749.79   NaN    0.34%\n",
       "\n",
       "[157 rows x 7 columns]"
      ]
     },
     "execution_count": 1,
     "metadata": {},
     "output_type": "execute_result"
    }
   ],
   "source": [
    "## Load data file and generate panadas dataframe\n",
    "\n",
    "import pandas as pd\n",
    "\n",
    "df = pd.read_csv('data/XAU_USD Historical Data.csv')\n",
    "\n",
    "df"
   ]
  },
  {
   "cell_type": "markdown",
   "id": "5cddcf7f",
   "metadata": {},
   "source": [
    "### Extract the needed dataframe columns (Date and Price)"
   ]
  },
  {
   "cell_type": "code",
   "execution_count": 2,
   "id": "be646e33",
   "metadata": {},
   "outputs": [
    {
     "data": {
      "text/html": [
       "<div>\n",
       "<style scoped>\n",
       "    .dataframe tbody tr th:only-of-type {\n",
       "        vertical-align: middle;\n",
       "    }\n",
       "\n",
       "    .dataframe tbody tr th {\n",
       "        vertical-align: top;\n",
       "    }\n",
       "\n",
       "    .dataframe thead th {\n",
       "        text-align: right;\n",
       "    }\n",
       "</style>\n",
       "<table border=\"1\" class=\"dataframe\">\n",
       "  <thead>\n",
       "    <tr style=\"text-align: right;\">\n",
       "      <th></th>\n",
       "      <th>Date</th>\n",
       "      <th>Price</th>\n",
       "    </tr>\n",
       "  </thead>\n",
       "  <tbody>\n",
       "    <tr>\n",
       "      <th>0</th>\n",
       "      <td>06/23/2024</td>\n",
       "      <td>2,329.23</td>\n",
       "    </tr>\n",
       "    <tr>\n",
       "      <th>1</th>\n",
       "      <td>06/16/2024</td>\n",
       "      <td>2,321.51</td>\n",
       "    </tr>\n",
       "    <tr>\n",
       "      <th>2</th>\n",
       "      <td>06/09/2024</td>\n",
       "      <td>2,332.52</td>\n",
       "    </tr>\n",
       "    <tr>\n",
       "      <th>3</th>\n",
       "      <td>06/02/2024</td>\n",
       "      <td>2,292.71</td>\n",
       "    </tr>\n",
       "    <tr>\n",
       "      <th>4</th>\n",
       "      <td>05/26/2024</td>\n",
       "      <td>2,326.97</td>\n",
       "    </tr>\n",
       "    <tr>\n",
       "      <th>...</th>\n",
       "      <td>...</td>\n",
       "      <td>...</td>\n",
       "    </tr>\n",
       "    <tr>\n",
       "      <th>152</th>\n",
       "      <td>07/25/2021</td>\n",
       "      <td>1,814.09</td>\n",
       "    </tr>\n",
       "    <tr>\n",
       "      <th>153</th>\n",
       "      <td>07/18/2021</td>\n",
       "      <td>1,802.34</td>\n",
       "    </tr>\n",
       "    <tr>\n",
       "      <th>154</th>\n",
       "      <td>07/11/2021</td>\n",
       "      <td>1,811.89</td>\n",
       "    </tr>\n",
       "    <tr>\n",
       "      <th>155</th>\n",
       "      <td>07/04/2021</td>\n",
       "      <td>1,808.98</td>\n",
       "    </tr>\n",
       "    <tr>\n",
       "      <th>156</th>\n",
       "      <td>06/27/2021</td>\n",
       "      <td>1,787.38</td>\n",
       "    </tr>\n",
       "  </tbody>\n",
       "</table>\n",
       "<p>157 rows × 2 columns</p>\n",
       "</div>"
      ],
      "text/plain": [
       "           Date     Price\n",
       "0    06/23/2024  2,329.23\n",
       "1    06/16/2024  2,321.51\n",
       "2    06/09/2024  2,332.52\n",
       "3    06/02/2024  2,292.71\n",
       "4    05/26/2024  2,326.97\n",
       "..          ...       ...\n",
       "152  07/25/2021  1,814.09\n",
       "153  07/18/2021  1,802.34\n",
       "154  07/11/2021  1,811.89\n",
       "155  07/04/2021  1,808.98\n",
       "156  06/27/2021  1,787.38\n",
       "\n",
       "[157 rows x 2 columns]"
      ]
     },
     "execution_count": 2,
     "metadata": {},
     "output_type": "execute_result"
    }
   ],
   "source": [
    "df = df[['Date', 'Price']]\n",
    "\n",
    "df"
   ]
  },
  {
   "cell_type": "code",
   "execution_count": 3,
   "id": "05e50f62",
   "metadata": {},
   "outputs": [
    {
     "data": {
      "text/plain": [
       "0      06/23/2024\n",
       "1      06/16/2024\n",
       "2      06/09/2024\n",
       "3      06/02/2024\n",
       "4      05/26/2024\n",
       "          ...    \n",
       "152    07/25/2021\n",
       "153    07/18/2021\n",
       "154    07/11/2021\n",
       "155    07/04/2021\n",
       "156    06/27/2021\n",
       "Name: Date, Length: 157, dtype: object"
      ]
     },
     "execution_count": 3,
     "metadata": {},
     "output_type": "execute_result"
    }
   ],
   "source": [
    "# inspecting the date column for the datatype\n",
    "df['Date']"
   ]
  },
  {
   "cell_type": "markdown",
   "id": "18af29cc",
   "metadata": {},
   "source": [
    "### function to convert the 'Date' column datatype from object to datetime"
   ]
  },
  {
   "cell_type": "code",
   "execution_count": 4,
   "id": "513dc257",
   "metadata": {},
   "outputs": [
    {
     "data": {
      "text/plain": [
       "datetime.datetime(2021, 9, 1, 0, 0)"
      ]
     },
     "execution_count": 4,
     "metadata": {},
     "output_type": "execute_result"
    }
   ],
   "source": [
    "import datetime\n",
    "\n",
    "def str_to_datetime(s):\n",
    "  split = s.split('/')\n",
    "  month, day, year = int(split[0]), int(split[1]), int(split[2])\n",
    "  return datetime.datetime(year=year, month=month, day=day)\n",
    "\n",
    "datetime_object = str_to_datetime('09/01/2021')\n",
    "datetime_object"
   ]
  },
  {
   "cell_type": "code",
   "execution_count": 5,
   "id": "b4780922",
   "metadata": {},
   "outputs": [
    {
     "data": {
      "text/html": [
       "<div>\n",
       "<style scoped>\n",
       "    .dataframe tbody tr th:only-of-type {\n",
       "        vertical-align: middle;\n",
       "    }\n",
       "\n",
       "    .dataframe tbody tr th {\n",
       "        vertical-align: top;\n",
       "    }\n",
       "\n",
       "    .dataframe thead th {\n",
       "        text-align: right;\n",
       "    }\n",
       "</style>\n",
       "<table border=\"1\" class=\"dataframe\">\n",
       "  <thead>\n",
       "    <tr style=\"text-align: right;\">\n",
       "      <th></th>\n",
       "      <th>Date</th>\n",
       "      <th>Price</th>\n",
       "    </tr>\n",
       "  </thead>\n",
       "  <tbody>\n",
       "    <tr>\n",
       "      <th>0</th>\n",
       "      <td>06/23/2024</td>\n",
       "      <td>2,329.23</td>\n",
       "    </tr>\n",
       "    <tr>\n",
       "      <th>1</th>\n",
       "      <td>06/16/2024</td>\n",
       "      <td>2,321.51</td>\n",
       "    </tr>\n",
       "    <tr>\n",
       "      <th>2</th>\n",
       "      <td>06/09/2024</td>\n",
       "      <td>2,332.52</td>\n",
       "    </tr>\n",
       "    <tr>\n",
       "      <th>3</th>\n",
       "      <td>06/02/2024</td>\n",
       "      <td>2,292.71</td>\n",
       "    </tr>\n",
       "    <tr>\n",
       "      <th>4</th>\n",
       "      <td>05/26/2024</td>\n",
       "      <td>2,326.97</td>\n",
       "    </tr>\n",
       "    <tr>\n",
       "      <th>...</th>\n",
       "      <td>...</td>\n",
       "      <td>...</td>\n",
       "    </tr>\n",
       "    <tr>\n",
       "      <th>152</th>\n",
       "      <td>07/25/2021</td>\n",
       "      <td>1,814.09</td>\n",
       "    </tr>\n",
       "    <tr>\n",
       "      <th>153</th>\n",
       "      <td>07/18/2021</td>\n",
       "      <td>1,802.34</td>\n",
       "    </tr>\n",
       "    <tr>\n",
       "      <th>154</th>\n",
       "      <td>07/11/2021</td>\n",
       "      <td>1,811.89</td>\n",
       "    </tr>\n",
       "    <tr>\n",
       "      <th>155</th>\n",
       "      <td>07/04/2021</td>\n",
       "      <td>1,808.98</td>\n",
       "    </tr>\n",
       "    <tr>\n",
       "      <th>156</th>\n",
       "      <td>06/27/2021</td>\n",
       "      <td>1,787.38</td>\n",
       "    </tr>\n",
       "  </tbody>\n",
       "</table>\n",
       "<p>157 rows × 2 columns</p>\n",
       "</div>"
      ],
      "text/plain": [
       "           Date     Price\n",
       "0    06/23/2024  2,329.23\n",
       "1    06/16/2024  2,321.51\n",
       "2    06/09/2024  2,332.52\n",
       "3    06/02/2024  2,292.71\n",
       "4    05/26/2024  2,326.97\n",
       "..          ...       ...\n",
       "152  07/25/2021  1,814.09\n",
       "153  07/18/2021  1,802.34\n",
       "154  07/11/2021  1,811.89\n",
       "155  07/04/2021  1,808.98\n",
       "156  06/27/2021  1,787.38\n",
       "\n",
       "[157 rows x 2 columns]"
      ]
     },
     "execution_count": 5,
     "metadata": {},
     "output_type": "execute_result"
    }
   ],
   "source": [
    "df"
   ]
  },
  {
   "cell_type": "code",
   "execution_count": 6,
   "id": "eb6b329e",
   "metadata": {},
   "outputs": [
    {
     "name": "stderr",
     "output_type": "stream",
     "text": [
      "/tmp/ipykernel_2627978/2565755782.py:1: SettingWithCopyWarning: \n",
      "A value is trying to be set on a copy of a slice from a DataFrame.\n",
      "Try using .loc[row_indexer,col_indexer] = value instead\n",
      "\n",
      "See the caveats in the documentation: https://pandas.pydata.org/pandas-docs/stable/user_guide/indexing.html#returning-a-view-versus-a-copy\n",
      "  df['Date'] = df['Date'].apply(str_to_datetime)\n"
     ]
    },
    {
     "data": {
      "text/plain": [
       "0     2024-06-23\n",
       "1     2024-06-16\n",
       "2     2024-06-09\n",
       "3     2024-06-02\n",
       "4     2024-05-26\n",
       "         ...    \n",
       "152   2021-07-25\n",
       "153   2021-07-18\n",
       "154   2021-07-11\n",
       "155   2021-07-04\n",
       "156   2021-06-27\n",
       "Name: Date, Length: 157, dtype: datetime64[ns]"
      ]
     },
     "execution_count": 6,
     "metadata": {},
     "output_type": "execute_result"
    }
   ],
   "source": [
    "# Apply the datetime convertion function to the 'Date' column\n",
    "df['Date'] = df['Date'].apply(str_to_datetime)\n",
    "df['Date']"
   ]
  },
  {
   "cell_type": "code",
   "execution_count": 7,
   "id": "719d2644",
   "metadata": {},
   "outputs": [
    {
     "data": {
      "text/html": [
       "<div>\n",
       "<style scoped>\n",
       "    .dataframe tbody tr th:only-of-type {\n",
       "        vertical-align: middle;\n",
       "    }\n",
       "\n",
       "    .dataframe tbody tr th {\n",
       "        vertical-align: top;\n",
       "    }\n",
       "\n",
       "    .dataframe thead th {\n",
       "        text-align: right;\n",
       "    }\n",
       "</style>\n",
       "<table border=\"1\" class=\"dataframe\">\n",
       "  <thead>\n",
       "    <tr style=\"text-align: right;\">\n",
       "      <th></th>\n",
       "      <th>Price</th>\n",
       "    </tr>\n",
       "    <tr>\n",
       "      <th>Date</th>\n",
       "      <th></th>\n",
       "    </tr>\n",
       "  </thead>\n",
       "  <tbody>\n",
       "    <tr>\n",
       "      <th>2021-06-27</th>\n",
       "      <td>1,787.38</td>\n",
       "    </tr>\n",
       "    <tr>\n",
       "      <th>2021-07-04</th>\n",
       "      <td>1,808.98</td>\n",
       "    </tr>\n",
       "    <tr>\n",
       "      <th>2021-07-11</th>\n",
       "      <td>1,811.89</td>\n",
       "    </tr>\n",
       "    <tr>\n",
       "      <th>2021-07-18</th>\n",
       "      <td>1,802.34</td>\n",
       "    </tr>\n",
       "    <tr>\n",
       "      <th>2021-07-25</th>\n",
       "      <td>1,814.09</td>\n",
       "    </tr>\n",
       "    <tr>\n",
       "      <th>...</th>\n",
       "      <td>...</td>\n",
       "    </tr>\n",
       "    <tr>\n",
       "      <th>2024-05-26</th>\n",
       "      <td>2,326.97</td>\n",
       "    </tr>\n",
       "    <tr>\n",
       "      <th>2024-06-02</th>\n",
       "      <td>2,292.71</td>\n",
       "    </tr>\n",
       "    <tr>\n",
       "      <th>2024-06-09</th>\n",
       "      <td>2,332.52</td>\n",
       "    </tr>\n",
       "    <tr>\n",
       "      <th>2024-06-16</th>\n",
       "      <td>2,321.51</td>\n",
       "    </tr>\n",
       "    <tr>\n",
       "      <th>2024-06-23</th>\n",
       "      <td>2,329.23</td>\n",
       "    </tr>\n",
       "  </tbody>\n",
       "</table>\n",
       "<p>157 rows × 1 columns</p>\n",
       "</div>"
      ],
      "text/plain": [
       "               Price\n",
       "Date                \n",
       "2021-06-27  1,787.38\n",
       "2021-07-04  1,808.98\n",
       "2021-07-11  1,811.89\n",
       "2021-07-18  1,802.34\n",
       "2021-07-25  1,814.09\n",
       "...              ...\n",
       "2024-05-26  2,326.97\n",
       "2024-06-02  2,292.71\n",
       "2024-06-09  2,332.52\n",
       "2024-06-16  2,321.51\n",
       "2024-06-23  2,329.23\n",
       "\n",
       "[157 rows x 1 columns]"
      ]
     },
     "execution_count": 7,
     "metadata": {},
     "output_type": "execute_result"
    }
   ],
   "source": [
    "df = df.iloc[::-1] # This reverses the order of the dataframe rows\n",
    "df.index = df.pop('Date') # This sets the 'Date' column as the dataframe index\n",
    "df"
   ]
  },
  {
   "cell_type": "code",
   "execution_count": 8,
   "id": "f544ddcd",
   "metadata": {},
   "outputs": [
    {
     "data": {
      "text/plain": [
       "[<matplotlib.lines.Line2D at 0x7f51172915b0>]"
      ]
     },
     "execution_count": 8,
     "metadata": {},
     "output_type": "execute_result"
    },
    {
     "data": {
      "image/png": "[encoded data removed]",
      "text/plain": [
       "<Figure size 640x480 with 1 Axes>"
      ]
     },
     "metadata": {},
     "output_type": "display_data"
    }
   ],
   "source": [
    "import matplotlib.pyplot as plt\n",
    "\n",
    "plt.plot(df.index, df['Price']) # using matplotlib pyplot to visualize the current state of the prepared dataframe"
   ]
  },
  {
   "cell_type": "markdown",
   "id": "15a32555",
   "metadata": {},
   "source": [
    "### Function to prepare the data to use the records from the previous three days to predict the price of the next day"
   ]
  },
  {
   "cell_type": "code",
   "execution_count": 9,
   "id": "e48342c5",
   "metadata": {},
   "outputs": [
    {
     "data": {
      "text/html": [
       "<div>\n",
       "<style scoped>\n",
       "    .dataframe tbody tr th:only-of-type {\n",
       "        vertical-align: middle;\n",
       "    }\n",
       "\n",
       "    .dataframe tbody tr th {\n",
       "        vertical-align: top;\n",
       "    }\n",
       "\n",
       "    .dataframe thead th {\n",
       "        text-align: right;\n",
       "    }\n",
       "</style>\n",
       "<table border=\"1\" class=\"dataframe\">\n",
       "  <thead>\n",
       "    <tr style=\"text-align: right;\">\n",
       "      <th></th>\n",
       "      <th>Target Date</th>\n",
       "      <th>Target-3</th>\n",
       "      <th>Target-2</th>\n",
       "      <th>Target-1</th>\n",
       "      <th>Target</th>\n",
       "    </tr>\n",
       "  </thead>\n",
       "  <tbody>\n",
       "    <tr>\n",
       "      <th>0</th>\n",
       "      <td>2021-10-31</td>\n",
       "      <td>1,767.59</td>\n",
       "      <td>1,793.01</td>\n",
       "      <td>1,783.39</td>\n",
       "      <td>1,817.73</td>\n",
       "    </tr>\n",
       "    <tr>\n",
       "      <th>1</th>\n",
       "      <td>2021-11-07</td>\n",
       "      <td>1,793.01</td>\n",
       "      <td>1,783.39</td>\n",
       "      <td>1,817.73</td>\n",
       "      <td>1,864.57</td>\n",
       "    </tr>\n",
       "    <tr>\n",
       "      <th>2</th>\n",
       "      <td>2021-11-14</td>\n",
       "      <td>1,783.39</td>\n",
       "      <td>1,817.73</td>\n",
       "      <td>1,864.57</td>\n",
       "      <td>1,845.60</td>\n",
       "    </tr>\n",
       "    <tr>\n",
       "      <th>3</th>\n",
       "      <td>2021-11-21</td>\n",
       "      <td>1,817.73</td>\n",
       "      <td>1,864.57</td>\n",
       "      <td>1,845.60</td>\n",
       "      <td>1,792.07</td>\n",
       "    </tr>\n",
       "    <tr>\n",
       "      <th>4</th>\n",
       "      <td>2021-11-28</td>\n",
       "      <td>1,864.57</td>\n",
       "      <td>1,845.60</td>\n",
       "      <td>1,792.07</td>\n",
       "      <td>1,784.07</td>\n",
       "    </tr>\n",
       "    <tr>\n",
       "      <th>...</th>\n",
       "      <td>...</td>\n",
       "      <td>...</td>\n",
       "      <td>...</td>\n",
       "      <td>...</td>\n",
       "      <td>...</td>\n",
       "    </tr>\n",
       "    <tr>\n",
       "      <th>130</th>\n",
       "      <td>2024-04-28</td>\n",
       "      <td>2,343.43</td>\n",
       "      <td>2,390.45</td>\n",
       "      <td>2,337.72</td>\n",
       "      <td>2,301.56</td>\n",
       "    </tr>\n",
       "    <tr>\n",
       "      <th>131</th>\n",
       "      <td>2024-05-05</td>\n",
       "      <td>2,390.45</td>\n",
       "      <td>2,337.72</td>\n",
       "      <td>2,301.56</td>\n",
       "      <td>2,360.14</td>\n",
       "    </tr>\n",
       "    <tr>\n",
       "      <th>132</th>\n",
       "      <td>2024-05-12</td>\n",
       "      <td>2,337.72</td>\n",
       "      <td>2,301.56</td>\n",
       "      <td>2,360.14</td>\n",
       "      <td>2,414.89</td>\n",
       "    </tr>\n",
       "    <tr>\n",
       "      <th>133</th>\n",
       "      <td>2024-05-19</td>\n",
       "      <td>2,301.56</td>\n",
       "      <td>2,360.14</td>\n",
       "      <td>2,414.89</td>\n",
       "      <td>2,333.76</td>\n",
       "    </tr>\n",
       "    <tr>\n",
       "      <th>134</th>\n",
       "      <td>2024-05-26</td>\n",
       "      <td>2,360.14</td>\n",
       "      <td>2,414.89</td>\n",
       "      <td>2,333.76</td>\n",
       "      <td>2,326.97</td>\n",
       "    </tr>\n",
       "  </tbody>\n",
       "</table>\n",
       "<p>135 rows × 5 columns</p>\n",
       "</div>"
      ],
      "text/plain": [
       "    Target Date  Target-3  Target-2  Target-1    Target\n",
       "0    2021-10-31  1,767.59  1,793.01  1,783.39  1,817.73\n",
       "1    2021-11-07  1,793.01  1,783.39  1,817.73  1,864.57\n",
       "2    2021-11-14  1,783.39  1,817.73  1,864.57  1,845.60\n",
       "3    2021-11-21  1,817.73  1,864.57  1,845.60  1,792.07\n",
       "4    2021-11-28  1,864.57  1,845.60  1,792.07  1,784.07\n",
       "..          ...       ...       ...       ...       ...\n",
       "130  2024-04-28  2,343.43  2,390.45  2,337.72  2,301.56\n",
       "131  2024-05-05  2,390.45  2,337.72  2,301.56  2,360.14\n",
       "132  2024-05-12  2,337.72  2,301.56  2,360.14  2,414.89\n",
       "133  2024-05-19  2,301.56  2,360.14  2,414.89  2,333.76\n",
       "134  2024-05-26  2,360.14  2,414.89  2,333.76  2,326.97\n",
       "\n",
       "[135 rows x 5 columns]"
      ]
     },
     "execution_count": 9,
     "metadata": {},
     "output_type": "execute_result"
    }
   ],
   "source": [
    "import numpy as np\n",
    "\n",
    "def df_to_windowed_df(dataframe, first_date_str, last_date_str, n=3):\n",
    "  #dataframe = dataframe.iloc[::-1]\n",
    "  #print(dataframe)\n",
    "  #print(dataframe)\n",
    "  first_date = str_to_datetime(first_date_str)\n",
    "  last_date  = str_to_datetime(last_date_str)\n",
    "\n",
    "  target_date = first_date\n",
    "  \n",
    "  dates = []\n",
    "  X, Y = [], []\n",
    "\n",
    "  last_time = False\n",
    "  while True:\n",
    "    df_subset = dataframe.loc[:target_date].tail(n+1)\n",
    "    \n",
    "    if len(df_subset) != n+1:\n",
    "      print(f'Error: Window of size {n} is too large for date {target_date}')\n",
    "      return\n",
    "\n",
    "    values = df_subset['Price'].to_numpy()\n",
    "    x, y = values[:-1], values[-1]\n",
    "\n",
    "    dates.append(target_date)\n",
    "    X.append(x)\n",
    "    Y.append(y)\n",
    "\n",
    "    next_week = dataframe.loc[target_date:target_date+datetime.timedelta(days=7)]\n",
    "    next_datetime_str = str(next_week.head(2).tail(1).index.values[0])\n",
    "    next_date_str = next_datetime_str.split('T')[0]\n",
    "    year_month_day = next_date_str.split('-')\n",
    "    year, month, day = year_month_day\n",
    "    next_date = datetime.datetime(day=int(day), month=int(month), year=int(year))\n",
    "    \n",
    "    if last_time:\n",
    "      break\n",
    "    \n",
    "    target_date = next_date\n",
    "\n",
    "    if target_date == last_date:\n",
    "      last_time = True\n",
    "    \n",
    "  ret_df = pd.DataFrame({})\n",
    "  ret_df['Target Date'] = dates\n",
    "  \n",
    "  X = np.array(X)\n",
    "  for i in range(0, n):\n",
    "    X[:, i]\n",
    "    ret_df[f'Target-{n-i}'] = X[:, i]\n",
    "  \n",
    "  ret_df['Target'] = Y\n",
    "\n",
    "  return ret_df\n",
    "\n",
    "# Testing the function above\n",
    "# Start day second time around: '03/25/2021'\n",
    "windowed_df = df_to_windowed_df(df,\n",
    "                                '10/31/2021',\n",
    "                                '05/26/2024', \n",
    "                                n=3)\n",
    "windowed_df"
   ]
  },
  {
   "cell_type": "markdown",
   "id": "88961ebb",
   "metadata": {},
   "source": [
    "### Function to extract the shape of the variables from the windowed_dataframe to be used for training and prediction"
   ]
  },
  {
   "cell_type": "code",
   "execution_count": 10,
   "id": "8a2b32ed",
   "metadata": {},
   "outputs": [
    {
     "data": {
      "text/plain": [
       "((135,), (135, 3, 1), (135,))"
      ]
     },
     "execution_count": 10,
     "metadata": {},
     "output_type": "execute_result"
    }
   ],
   "source": [
    "\n",
    "def windowed_df_to_date_X_y(windowed_dataframe):\n",
    "  windowed_dataframe = windowed_dataframe.applymap(lambda x: float(str(x).replace(\",\", \"\")) if isinstance(x, str) else x) # remove number formating ','\n",
    "  df_as_np = windowed_dataframe.to_numpy() # convert the dataframe to numpy\n",
    "\n",
    "  dates = df_as_np[:, 0] # Extract the date column\n",
    "\n",
    "  middle_matrix = df_as_np[:, 1:-1]\n",
    "  X = middle_matrix.reshape((len(dates), middle_matrix.shape[1], 1)) # Extract the set of colums with the previous prices\n",
    "\n",
    "  Y = df_as_np[:, -1] # Extract the Target column\n",
    "\n",
    "  return dates, X.astype(np.float32), Y.astype(np.float32)\n",
    "\n",
    "dates, X, y = windowed_df_to_date_X_y(windowed_df)\n",
    "\n",
    "dates.shape, X.shape, y.shape"
   ]
  },
  {
   "cell_type": "markdown",
   "id": "2f680366",
   "metadata": {},
   "source": [
    "###  Visualize the windowed_df_to_date_X_y along the 80th and 90th percentile for the training and validation respectively"
   ]
  },
  {
   "cell_type": "code",
   "execution_count": 11,
   "id": "14eba8b3",
   "metadata": {},
   "outputs": [
    {
     "data": {
      "text/plain": [
       "<matplotlib.legend.Legend at 0x7f5117038c40>"
      ]
     },
     "execution_count": 11,
     "metadata": {},
     "output_type": "execute_result"
    },
    {
     "data": {
      "image/png": "[encoded data removed]",
      "text/plain": [
       "<Figure size 640x480 with 1 Axes>"
      ]
     },
     "metadata": {},
     "output_type": "display_data"
    }
   ],
   "source": [
    "# Split the dates column along the 80th and 90th percentile for the training and validation respectively\n",
    "q_80 = int(len(dates) * .8)\n",
    "q_90 = int(len(dates) * .9)\n",
    "\n",
    "dates_train, X_train, y_train = dates[:q_80], X[:q_80], y[:q_80]\n",
    "\n",
    "dates_val, X_val, y_val = dates[q_80:q_90], X[q_80:q_90], y[q_80:q_90]\n",
    "dates_test, X_test, y_test = dates[q_90:], X[q_90:], y[q_90:]\n",
    "\n",
    "plt.plot(dates_train, y_train)\n",
    "plt.plot(dates_val, y_val)\n",
    "plt.plot(dates_test, y_test)\n",
    "\n",
    "plt.legend(['Train', 'Validation', 'Test'])"
   ]
  },
  {
   "cell_type": "code",
   "execution_count": null,
   "id": "ecd49027",
   "metadata": {},
   "outputs": [],
   "source": [
    "### Prepare the windowed_df_to_date_X_y for Recursive neural network modeling using TensorFlow and Keras"
   ]
  },
  {
   "cell_type": "code",
   "execution_count": 12,
   "id": "8e67a064",
   "metadata": {},
   "outputs": [
    {
     "ename": "ModuleNotFoundError",
     "evalue": "No module named 'tensorflow'",
     "output_type": "error",
     "traceback": [
      "\u001b[0;31m---------------------------------------------------------------------------\u001b[0m",
      "\u001b[0;31mModuleNotFoundError\u001b[0m                       Traceback (most recent call last)",
      "\u001b[0;32m/tmp/ipykernel_2627978/3224611182.py\u001b[0m in \u001b[0;36m<module>\u001b[0;34m\u001b[0m\n\u001b[0;32m----> 1\u001b[0;31m \u001b[0;32mfrom\u001b[0m \u001b[0mtensorflow\u001b[0m\u001b[0;34m.\u001b[0m\u001b[0mkeras\u001b[0m\u001b[0;34m.\u001b[0m\u001b[0mmodels\u001b[0m \u001b[0;32mimport\u001b[0m \u001b[0mSequential\u001b[0m\u001b[0;34m\u001b[0m\u001b[0;34m\u001b[0m\u001b[0m\n\u001b[0m\u001b[1;32m      2\u001b[0m \u001b[0;32mfrom\u001b[0m \u001b[0mtensorflow\u001b[0m\u001b[0;34m.\u001b[0m\u001b[0mkeras\u001b[0m\u001b[0;34m.\u001b[0m\u001b[0moptimizers\u001b[0m \u001b[0;32mimport\u001b[0m \u001b[0mAdam\u001b[0m\u001b[0;34m\u001b[0m\u001b[0;34m\u001b[0m\u001b[0m\n\u001b[1;32m      3\u001b[0m \u001b[0;32mfrom\u001b[0m \u001b[0mtensorflow\u001b[0m\u001b[0;34m.\u001b[0m\u001b[0mkeras\u001b[0m \u001b[0;32mimport\u001b[0m \u001b[0mlayers\u001b[0m\u001b[0;34m\u001b[0m\u001b[0;34m\u001b[0m\u001b[0m\n\u001b[1;32m      4\u001b[0m \u001b[0;34m\u001b[0m\u001b[0m\n\u001b[1;32m      5\u001b[0m model = Sequential([layers.Input((3, 1)),\n",
      "\u001b[0;31mModuleNotFoundError\u001b[0m: No module named 'tensorflow'"
     ]
    }
   ],
   "source": [
    "from tensorflow.keras.models import Sequential\n",
    "from tensorflow.keras.optimizers import Adam\n",
    "from tensorflow.keras import layers\n",
    "\n",
    "model = Sequential([layers.Input((3, 1)),\n",
    "                    layers.LSTM(64),\n",
    "                    layers.Dense(32, activation='relu'),\n",
    "                    layers.Dense(32, activation='relu'),\n",
    "                    layers.Dense(1)])\n",
    "\n",
    "model.compile(loss='mse', \n",
    "              optimizer=Adam(learning_rate=0.001),\n",
    "              metrics=['mean_absolute_error'])\n",
    "\n",
    "model.fit(X_train, y_train, validation_data=(X_val, y_val), epochs=100)"
   ]
  },
  {
   "cell_type": "markdown",
   "id": "ca93f91f",
   "metadata": {},
   "source": [
    "### Prediction and visualization of training data i.e the three previous days' price column using the 80th percentile"
   ]
  },
  {
   "cell_type": "code",
   "execution_count": 15,
   "id": "718d638d",
   "metadata": {},
   "outputs": [
    {
     "ename": "NameError",
     "evalue": "name 'model' is not defined",
     "output_type": "error",
     "traceback": [
      "\u001b[0;31m---------------------------------------------------------------------------\u001b[0m",
      "\u001b[0;31mNameError\u001b[0m                                 Traceback (most recent call last)",
      "\u001b[0;32m/tmp/ipykernel_618094/2173980407.py\u001b[0m in \u001b[0;36m<module>\u001b[0;34m\u001b[0m\n\u001b[0;32m----> 1\u001b[0;31m \u001b[0mtrain_predictions\u001b[0m \u001b[0;34m=\u001b[0m \u001b[0mmodel\u001b[0m\u001b[0;34m.\u001b[0m\u001b[0mpredict\u001b[0m\u001b[0;34m(\u001b[0m\u001b[0mX_train\u001b[0m\u001b[0;34m)\u001b[0m\u001b[0;34m.\u001b[0m\u001b[0mflatten\u001b[0m\u001b[0;34m(\u001b[0m\u001b[0;34m)\u001b[0m\u001b[0;34m\u001b[0m\u001b[0;34m\u001b[0m\u001b[0m\n\u001b[0m\u001b[1;32m      2\u001b[0m \u001b[0;34m\u001b[0m\u001b[0m\n\u001b[1;32m      3\u001b[0m \u001b[0mplt\u001b[0m\u001b[0;34m.\u001b[0m\u001b[0mplot\u001b[0m\u001b[0;34m(\u001b[0m\u001b[0mdates_train\u001b[0m\u001b[0;34m,\u001b[0m \u001b[0mtrain_predictions\u001b[0m\u001b[0;34m)\u001b[0m\u001b[0;34m\u001b[0m\u001b[0;34m\u001b[0m\u001b[0m\n\u001b[1;32m      4\u001b[0m \u001b[0mplt\u001b[0m\u001b[0;34m.\u001b[0m\u001b[0mplot\u001b[0m\u001b[0;34m(\u001b[0m\u001b[0mdates_train\u001b[0m\u001b[0;34m,\u001b[0m \u001b[0my_train\u001b[0m\u001b[0;34m)\u001b[0m\u001b[0;34m\u001b[0m\u001b[0;34m\u001b[0m\u001b[0m\n\u001b[1;32m      5\u001b[0m \u001b[0mplt\u001b[0m\u001b[0;34m.\u001b[0m\u001b[0mlegend\u001b[0m\u001b[0;34m(\u001b[0m\u001b[0;34m[\u001b[0m\u001b[0;34m'Training Predictions'\u001b[0m\u001b[0;34m,\u001b[0m \u001b[0;34m'Training Observations'\u001b[0m\u001b[0;34m]\u001b[0m\u001b[0;34m)\u001b[0m\u001b[0;34m\u001b[0m\u001b[0;34m\u001b[0m\u001b[0m\n",
      "\u001b[0;31mNameError\u001b[0m: name 'model' is not defined"
     ]
    }
   ],
   "source": [
    "train_predictions = model.predict(X_train).flatten()\n",
    "\n",
    "plt.plot(dates_train, train_predictions)\n",
    "plt.plot(dates_train, y_train)\n",
    "plt.legend(['Training Predictions', 'Training Observations'])"
   ]
  },
  {
   "cell_type": "markdown",
   "id": "cb8b81c3",
   "metadata": {},
   "source": [
    "### Prediction and visualization of validation data i.e the three previous days' price column using the 90th percentile"
   ]
  },
  {
   "cell_type": "code",
   "execution_count": 16,
   "id": "33166e21",
   "metadata": {},
   "outputs": [
    {
     "ename": "NameError",
     "evalue": "name 'model' is not defined",
     "output_type": "error",
     "traceback": [
      "\u001b[0;31m---------------------------------------------------------------------------\u001b[0m",
      "\u001b[0;31mNameError\u001b[0m                                 Traceback (most recent call last)",
      "\u001b[0;32m/tmp/ipykernel_618094/378089537.py\u001b[0m in \u001b[0;36m<module>\u001b[0;34m\u001b[0m\n\u001b[0;32m----> 1\u001b[0;31m \u001b[0mval_predictions\u001b[0m \u001b[0;34m=\u001b[0m \u001b[0mmodel\u001b[0m\u001b[0;34m.\u001b[0m\u001b[0mpredict\u001b[0m\u001b[0;34m(\u001b[0m\u001b[0mX_val\u001b[0m\u001b[0;34m)\u001b[0m\u001b[0;34m.\u001b[0m\u001b[0mflatten\u001b[0m\u001b[0;34m(\u001b[0m\u001b[0;34m)\u001b[0m\u001b[0;34m\u001b[0m\u001b[0;34m\u001b[0m\u001b[0m\n\u001b[0m\u001b[1;32m      2\u001b[0m \u001b[0;34m\u001b[0m\u001b[0m\n\u001b[1;32m      3\u001b[0m \u001b[0mplt\u001b[0m\u001b[0;34m.\u001b[0m\u001b[0mplot\u001b[0m\u001b[0;34m(\u001b[0m\u001b[0mdates_val\u001b[0m\u001b[0;34m,\u001b[0m \u001b[0mval_predictions\u001b[0m\u001b[0;34m)\u001b[0m\u001b[0;34m\u001b[0m\u001b[0;34m\u001b[0m\u001b[0m\n\u001b[1;32m      4\u001b[0m \u001b[0mplt\u001b[0m\u001b[0;34m.\u001b[0m\u001b[0mplot\u001b[0m\u001b[0;34m(\u001b[0m\u001b[0mdates_val\u001b[0m\u001b[0;34m,\u001b[0m \u001b[0my_val\u001b[0m\u001b[0;34m)\u001b[0m\u001b[0;34m\u001b[0m\u001b[0;34m\u001b[0m\u001b[0m\n\u001b[1;32m      5\u001b[0m \u001b[0mplt\u001b[0m\u001b[0;34m.\u001b[0m\u001b[0mlegend\u001b[0m\u001b[0;34m(\u001b[0m\u001b[0;34m[\u001b[0m\u001b[0;34m'Validation Predictions'\u001b[0m\u001b[0;34m,\u001b[0m \u001b[0;34m'Validation Observations'\u001b[0m\u001b[0;34m]\u001b[0m\u001b[0;34m)\u001b[0m\u001b[0;34m\u001b[0m\u001b[0;34m\u001b[0m\u001b[0m\n",
      "\u001b[0;31mNameError\u001b[0m: name 'model' is not defined"
     ]
    }
   ],
   "source": [
    "val_predictions = model.predict(X_val).flatten()\n",
    "\n",
    "plt.plot(dates_val, val_predictions)\n",
    "plt.plot(dates_val, y_val)\n",
    "plt.legend(['Validation Predictions', 'Validation Observations'])"
   ]
  },
  {
   "cell_type": "markdown",
   "id": "208bc313",
   "metadata": {},
   "source": [
    "### Prediction visualization of testing data i.e the three previous days' price column using the remaning 10th percentile"
   ]
  },
  {
   "cell_type": "code",
   "execution_count": null,
   "id": "aa559c50",
   "metadata": {},
   "outputs": [],
   "source": [
    "test_predictions = model.predict(X_test).flatten()\n",
    "\n",
    "plt.plot(dates_test, test_predictions)\n",
    "plt.plot(dates_test, y_test)\n",
    "plt.legend(['Testing Predictions', 'Testing Observations'])"
   ]
  },
  {
   "cell_type": "code",
   "execution_count": null,
   "id": "b518bfa5",
   "metadata": {},
   "outputs": [],
   "source": [
    "# visualization of Training, Validation and Testing Data\n",
    "plt.plot(dates_train, train_predictions)\n",
    "plt.plot(dates_train, y_train)\n",
    "plt.plot(dates_val, val_predictions)\n",
    "plt.plot(dates_val, y_val)\n",
    "plt.plot(dates_test, test_predictions)\n",
    "plt.plot(dates_test, y_test)\n",
    "plt.legend(['Training Predictions', \n",
    "            'Training Observations',\n",
    "            'Validation Predictions', \n",
    "            'Validation Observations',\n",
    "            'Testing Predictions', \n",
    "            'Testing Observations'])"
   ]
  },
  {
   "cell_type": "markdown",
   "id": "ac4dca12",
   "metadata": {},
   "source": [
    "### Next Prediction price and visualization"
   ]
  },
  {
   "cell_type": "code",
   "execution_count": null,
   "id": "4ff543ec",
   "metadata": {},
   "outputs": [],
   "source": [
    "from copy import deepcopy\n",
    "\n",
    "recursive_predictions = []\n",
    "recursive_dates = np.concatenate([dates_val, dates_test])\n",
    "\n",
    "for target_date in recursive_dates:\n",
    "  last_window = deepcopy(X_train[-1])\n",
    "  next_prediction = model.predict(np.array([last_window])).flatten()\n",
    "  recursive_predictions.append(next_prediction)\n",
    "  last_window[-1] = next_prediction"
   ]
  },
  {
   "cell_type": "code",
   "execution_count": null,
   "id": "10b8a09e",
   "metadata": {},
   "outputs": [],
   "source": [
    "plt.plot(dates_train, train_predictions)\n",
    "plt.plot(dates_train, y_train)\n",
    "plt.plot(dates_val, val_predictions)\n",
    "plt.plot(dates_val, y_val)\n",
    "plt.plot(dates_test, test_predictions)\n",
    "plt.plot(dates_test, y_test)\n",
    "plt.plot(recursive_dates, recursive_predictions)\n",
    "plt.legend(['Training Predictions', \n",
    "            'Training Observations',\n",
    "            'Validation Predictions', \n",
    "            'Validation Observations',\n",
    "            'Testing Predictions', \n",
    "            'Testing Observations',\n",
    "            'Recursive Predictions'])"
   ]
  }
 ],
 "metadata": {
  "kernelspec": {
   "display_name": "Python 3 (ipykernel)",
   "language": "python",
   "name": "python3"
  },
  "language_info": {
   "codemirror_mode": {
    "name": "ipython",
    "version": 3
   },
   "file_extension": ".py",
   "mimetype": "text/x-python",
   "name": "python",
   "nbconvert_exporter": "python",
   "pygments_lexer": "ipython3",
   "version": "3.9.13"
  }
 },
 "nbformat": 4,
 "nbformat_minor": 5
}
